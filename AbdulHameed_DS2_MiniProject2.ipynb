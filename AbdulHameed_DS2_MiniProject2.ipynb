{
 "cells": [
  {
   "cell_type": "markdown",
   "id": "a1048732",
   "metadata": {},
   "source": [
    "# ----------------------------------------Mini Project 2----------------------------------------"
   ]
  },
  {
   "cell_type": "markdown",
   "id": "0b804a6e",
   "metadata": {},
   "source": [
    "# ------------------------------------House Grade Data--------------------------------------"
   ]
  },
  {
   "cell_type": "markdown",
   "id": "f2b7fa00",
   "metadata": {},
   "source": [
    "# Import Libraries"
   ]
  },
  {
   "cell_type": "code",
   "execution_count": 1,
   "id": "a7b4e352",
   "metadata": {},
   "outputs": [],
   "source": [
    "import numpy as np\n",
    "import pandas as pd\n",
    "import warnings\n",
    "warnings.simplefilter(action='ignore')"
   ]
  },
  {
   "cell_type": "markdown",
   "id": "19ea43ad",
   "metadata": {},
   "source": [
    "# Loading the data"
   ]
  },
  {
   "cell_type": "code",
   "execution_count": 2,
   "id": "06ac22d8",
   "metadata": {},
   "outputs": [],
   "source": [
    "df=pd.read_csv(\"DS3_C6_S2_Classification_HouseGrade_Data_Project.csv\")"
   ]
  },
  {
   "cell_type": "markdown",
   "id": "d9974af0",
   "metadata": {},
   "source": [
    " Interpretation:- CSV File is loaded and named as df"
   ]
  },
  {
   "cell_type": "markdown",
   "id": "48b58249",
   "metadata": {},
   "source": [
    "# Insights from data"
   ]
  },
  {
   "cell_type": "code",
   "execution_count": 3,
   "id": "f9f9a7a2",
   "metadata": {},
   "outputs": [
    {
     "data": {
      "text/html": [
       "<div>\n",
       "<style scoped>\n",
       "    .dataframe tbody tr th:only-of-type {\n",
       "        vertical-align: middle;\n",
       "    }\n",
       "\n",
       "    .dataframe tbody tr th {\n",
       "        vertical-align: top;\n",
       "    }\n",
       "\n",
       "    .dataframe thead th {\n",
       "        text-align: right;\n",
       "    }\n",
       "</style>\n",
       "<table border=\"1\" class=\"dataframe\">\n",
       "  <thead>\n",
       "    <tr style=\"text-align: right;\">\n",
       "      <th></th>\n",
       "      <th>Id</th>\n",
       "      <th>Area(total)</th>\n",
       "      <th>Trooms</th>\n",
       "      <th>Nbedrooms</th>\n",
       "      <th>Nbwashrooms</th>\n",
       "      <th>Twashrooms</th>\n",
       "      <th>roof</th>\n",
       "      <th>Roof(Area)</th>\n",
       "      <th>Lawn(Area)</th>\n",
       "      <th>Nfloors</th>\n",
       "      <th>API</th>\n",
       "      <th>ANB</th>\n",
       "      <th>Expected price</th>\n",
       "      <th>Grade</th>\n",
       "    </tr>\n",
       "  </thead>\n",
       "  <tbody>\n",
       "    <tr>\n",
       "      <th>174</th>\n",
       "      <td>175</td>\n",
       "      <td>313</td>\n",
       "      <td>9</td>\n",
       "      <td>8</td>\n",
       "      <td>7</td>\n",
       "      <td>9</td>\n",
       "      <td>YES</td>\n",
       "      <td>112</td>\n",
       "      <td>88</td>\n",
       "      <td>6</td>\n",
       "      <td>68</td>\n",
       "      <td>6</td>\n",
       "      <td>4541</td>\n",
       "      <td>A</td>\n",
       "    </tr>\n",
       "    <tr>\n",
       "      <th>590</th>\n",
       "      <td>591</td>\n",
       "      <td>323</td>\n",
       "      <td>7</td>\n",
       "      <td>5</td>\n",
       "      <td>5</td>\n",
       "      <td>7</td>\n",
       "      <td>NO</td>\n",
       "      <td>0</td>\n",
       "      <td>112</td>\n",
       "      <td>5</td>\n",
       "      <td>80</td>\n",
       "      <td>3</td>\n",
       "      <td>4078</td>\n",
       "      <td>C</td>\n",
       "    </tr>\n",
       "    <tr>\n",
       "      <th>803</th>\n",
       "      <td>804</td>\n",
       "      <td>300</td>\n",
       "      <td>6</td>\n",
       "      <td>5</td>\n",
       "      <td>4</td>\n",
       "      <td>6</td>\n",
       "      <td>NO</td>\n",
       "      <td>0</td>\n",
       "      <td>118</td>\n",
       "      <td>4</td>\n",
       "      <td>58</td>\n",
       "      <td>3</td>\n",
       "      <td>3387</td>\n",
       "      <td>D</td>\n",
       "    </tr>\n",
       "    <tr>\n",
       "      <th>638</th>\n",
       "      <td>639</td>\n",
       "      <td>350</td>\n",
       "      <td>7</td>\n",
       "      <td>6</td>\n",
       "      <td>5</td>\n",
       "      <td>7</td>\n",
       "      <td>YES</td>\n",
       "      <td>113</td>\n",
       "      <td>87</td>\n",
       "      <td>4</td>\n",
       "      <td>90</td>\n",
       "      <td>1</td>\n",
       "      <td>3672</td>\n",
       "      <td>B</td>\n",
       "    </tr>\n",
       "    <tr>\n",
       "      <th>400</th>\n",
       "      <td>401</td>\n",
       "      <td>304</td>\n",
       "      <td>7</td>\n",
       "      <td>4</td>\n",
       "      <td>3</td>\n",
       "      <td>5</td>\n",
       "      <td>NO</td>\n",
       "      <td>0</td>\n",
       "      <td>105</td>\n",
       "      <td>5</td>\n",
       "      <td>91</td>\n",
       "      <td>5</td>\n",
       "      <td>3831</td>\n",
       "      <td>D</td>\n",
       "    </tr>\n",
       "  </tbody>\n",
       "</table>\n",
       "</div>"
      ],
      "text/plain": [
       "      Id  Area(total)  Trooms  Nbedrooms  Nbwashrooms  Twashrooms roof  \\\n",
       "174  175          313       9          8            7           9  YES   \n",
       "590  591          323       7          5            5           7   NO   \n",
       "803  804          300       6          5            4           6   NO   \n",
       "638  639          350       7          6            5           7  YES   \n",
       "400  401          304       7          4            3           5   NO   \n",
       "\n",
       "     Roof(Area)  Lawn(Area)  Nfloors  API  ANB  Expected price Grade  \n",
       "174         112          88        6   68    6            4541     A  \n",
       "590           0         112        5   80    3            4078     C  \n",
       "803           0         118        4   58    3            3387     D  \n",
       "638         113          87        4   90    1            3672     B  \n",
       "400           0         105        5   91    5            3831     D  "
      ]
     },
     "execution_count": 3,
     "metadata": {},
     "output_type": "execute_result"
    }
   ],
   "source": [
    "df.sample(5)"
   ]
  },
  {
   "cell_type": "code",
   "execution_count": 4,
   "id": "9c14b2c6",
   "metadata": {},
   "outputs": [
    {
     "name": "stdout",
     "output_type": "stream",
     "text": [
      "Data has  3000  rows and 14 columns\n"
     ]
    }
   ],
   "source": [
    "print(\"Data has \",df.shape[0], \" rows and\",df.shape[1],\"columns\")"
   ]
  },
  {
   "cell_type": "code",
   "execution_count": 5,
   "id": "f34258ac",
   "metadata": {},
   "outputs": [
    {
     "data": {
      "text/plain": [
       "Id                 int64\n",
       "Area(total)        int64\n",
       "Trooms             int64\n",
       "Nbedrooms          int64\n",
       "Nbwashrooms        int64\n",
       "Twashrooms         int64\n",
       "roof              object\n",
       "Roof(Area)         int64\n",
       "Lawn(Area)         int64\n",
       "Nfloors            int64\n",
       "API                int64\n",
       "ANB                int64\n",
       "Expected price     int64\n",
       "Grade             object\n",
       "dtype: object"
      ]
     },
     "execution_count": 5,
     "metadata": {},
     "output_type": "execute_result"
    }
   ],
   "source": [
    "df.dtypes"
   ]
  },
  {
   "cell_type": "code",
   "execution_count": 6,
   "id": "8d74fb6d",
   "metadata": {},
   "outputs": [
    {
     "name": "stdout",
     "output_type": "stream",
     "text": [
      "<class 'pandas.core.frame.DataFrame'>\n",
      "RangeIndex: 3000 entries, 0 to 2999\n",
      "Data columns (total 14 columns):\n",
      " #   Column          Non-Null Count  Dtype \n",
      "---  ------          --------------  ----- \n",
      " 0   Id              3000 non-null   int64 \n",
      " 1   Area(total)     3000 non-null   int64 \n",
      " 2   Trooms          3000 non-null   int64 \n",
      " 3   Nbedrooms       3000 non-null   int64 \n",
      " 4   Nbwashrooms     3000 non-null   int64 \n",
      " 5   Twashrooms      3000 non-null   int64 \n",
      " 6   roof            3000 non-null   object\n",
      " 7   Roof(Area)      3000 non-null   int64 \n",
      " 8   Lawn(Area)      3000 non-null   int64 \n",
      " 9   Nfloors         3000 non-null   int64 \n",
      " 10  API             3000 non-null   int64 \n",
      " 11  ANB             3000 non-null   int64 \n",
      " 12  Expected price  3000 non-null   int64 \n",
      " 13  Grade           3000 non-null   object\n",
      "dtypes: int64(12), object(2)\n",
      "memory usage: 328.2+ KB\n"
     ]
    }
   ],
   "source": [
    "df.info()"
   ]
  },
  {
   "cell_type": "code",
   "execution_count": 7,
   "id": "593c66a7",
   "metadata": {},
   "outputs": [
    {
     "data": {
      "text/html": [
       "<div>\n",
       "<style scoped>\n",
       "    .dataframe tbody tr th:only-of-type {\n",
       "        vertical-align: middle;\n",
       "    }\n",
       "\n",
       "    .dataframe tbody tr th {\n",
       "        vertical-align: top;\n",
       "    }\n",
       "\n",
       "    .dataframe thead th {\n",
       "        text-align: right;\n",
       "    }\n",
       "</style>\n",
       "<table border=\"1\" class=\"dataframe\">\n",
       "  <thead>\n",
       "    <tr style=\"text-align: right;\">\n",
       "      <th></th>\n",
       "      <th>count</th>\n",
       "      <th>mean</th>\n",
       "      <th>std</th>\n",
       "      <th>min</th>\n",
       "      <th>25%</th>\n",
       "      <th>50%</th>\n",
       "      <th>75%</th>\n",
       "      <th>max</th>\n",
       "    </tr>\n",
       "  </thead>\n",
       "  <tbody>\n",
       "    <tr>\n",
       "      <th>Id</th>\n",
       "      <td>3000.0</td>\n",
       "      <td>1500.500000</td>\n",
       "      <td>866.169729</td>\n",
       "      <td>1.0</td>\n",
       "      <td>750.75</td>\n",
       "      <td>1500.5</td>\n",
       "      <td>2250.25</td>\n",
       "      <td>3000.0</td>\n",
       "    </tr>\n",
       "    <tr>\n",
       "      <th>Area(total)</th>\n",
       "      <td>3000.0</td>\n",
       "      <td>325.117000</td>\n",
       "      <td>20.507742</td>\n",
       "      <td>290.0</td>\n",
       "      <td>308.00</td>\n",
       "      <td>325.0</td>\n",
       "      <td>343.00</td>\n",
       "      <td>360.0</td>\n",
       "    </tr>\n",
       "    <tr>\n",
       "      <th>Trooms</th>\n",
       "      <td>3000.0</td>\n",
       "      <td>7.021667</td>\n",
       "      <td>1.421221</td>\n",
       "      <td>5.0</td>\n",
       "      <td>6.00</td>\n",
       "      <td>7.0</td>\n",
       "      <td>8.00</td>\n",
       "      <td>9.0</td>\n",
       "    </tr>\n",
       "    <tr>\n",
       "      <th>Nbedrooms</th>\n",
       "      <td>3000.0</td>\n",
       "      <td>5.023000</td>\n",
       "      <td>1.634838</td>\n",
       "      <td>2.0</td>\n",
       "      <td>4.00</td>\n",
       "      <td>5.0</td>\n",
       "      <td>6.00</td>\n",
       "      <td>8.0</td>\n",
       "    </tr>\n",
       "    <tr>\n",
       "      <th>Nbwashrooms</th>\n",
       "      <td>3000.0</td>\n",
       "      <td>4.513667</td>\n",
       "      <td>1.715263</td>\n",
       "      <td>1.0</td>\n",
       "      <td>3.00</td>\n",
       "      <td>4.0</td>\n",
       "      <td>6.00</td>\n",
       "      <td>8.0</td>\n",
       "    </tr>\n",
       "    <tr>\n",
       "      <th>Twashrooms</th>\n",
       "      <td>3000.0</td>\n",
       "      <td>6.010667</td>\n",
       "      <td>1.786136</td>\n",
       "      <td>2.0</td>\n",
       "      <td>5.00</td>\n",
       "      <td>6.0</td>\n",
       "      <td>7.00</td>\n",
       "      <td>10.0</td>\n",
       "    </tr>\n",
       "    <tr>\n",
       "      <th>Roof(Area)</th>\n",
       "      <td>3000.0</td>\n",
       "      <td>48.980667</td>\n",
       "      <td>48.746641</td>\n",
       "      <td>0.0</td>\n",
       "      <td>0.00</td>\n",
       "      <td>71.0</td>\n",
       "      <td>96.00</td>\n",
       "      <td>120.0</td>\n",
       "    </tr>\n",
       "    <tr>\n",
       "      <th>Lawn(Area)</th>\n",
       "      <td>3000.0</td>\n",
       "      <td>95.609333</td>\n",
       "      <td>14.837388</td>\n",
       "      <td>70.0</td>\n",
       "      <td>83.00</td>\n",
       "      <td>96.0</td>\n",
       "      <td>109.00</td>\n",
       "      <td>120.0</td>\n",
       "    </tr>\n",
       "    <tr>\n",
       "      <th>Nfloors</th>\n",
       "      <td>3000.0</td>\n",
       "      <td>4.013333</td>\n",
       "      <td>1.621532</td>\n",
       "      <td>1.0</td>\n",
       "      <td>3.00</td>\n",
       "      <td>4.0</td>\n",
       "      <td>5.00</td>\n",
       "      <td>7.0</td>\n",
       "    </tr>\n",
       "    <tr>\n",
       "      <th>API</th>\n",
       "      <td>3000.0</td>\n",
       "      <td>70.190667</td>\n",
       "      <td>17.563460</td>\n",
       "      <td>40.0</td>\n",
       "      <td>55.00</td>\n",
       "      <td>70.0</td>\n",
       "      <td>85.00</td>\n",
       "      <td>100.0</td>\n",
       "    </tr>\n",
       "    <tr>\n",
       "      <th>ANB</th>\n",
       "      <td>3000.0</td>\n",
       "      <td>3.479000</td>\n",
       "      <td>1.694260</td>\n",
       "      <td>1.0</td>\n",
       "      <td>2.00</td>\n",
       "      <td>4.0</td>\n",
       "      <td>5.00</td>\n",
       "      <td>6.0</td>\n",
       "    </tr>\n",
       "    <tr>\n",
       "      <th>Expected price</th>\n",
       "      <td>3000.0</td>\n",
       "      <td>3782.938333</td>\n",
       "      <td>567.189995</td>\n",
       "      <td>2504.0</td>\n",
       "      <td>3354.00</td>\n",
       "      <td>3771.0</td>\n",
       "      <td>4208.00</td>\n",
       "      <td>5216.0</td>\n",
       "    </tr>\n",
       "  </tbody>\n",
       "</table>\n",
       "</div>"
      ],
      "text/plain": [
       "                 count         mean         std     min      25%     50%  \\\n",
       "Id              3000.0  1500.500000  866.169729     1.0   750.75  1500.5   \n",
       "Area(total)     3000.0   325.117000   20.507742   290.0   308.00   325.0   \n",
       "Trooms          3000.0     7.021667    1.421221     5.0     6.00     7.0   \n",
       "Nbedrooms       3000.0     5.023000    1.634838     2.0     4.00     5.0   \n",
       "Nbwashrooms     3000.0     4.513667    1.715263     1.0     3.00     4.0   \n",
       "Twashrooms      3000.0     6.010667    1.786136     2.0     5.00     6.0   \n",
       "Roof(Area)      3000.0    48.980667   48.746641     0.0     0.00    71.0   \n",
       "Lawn(Area)      3000.0    95.609333   14.837388    70.0    83.00    96.0   \n",
       "Nfloors         3000.0     4.013333    1.621532     1.0     3.00     4.0   \n",
       "API             3000.0    70.190667   17.563460    40.0    55.00    70.0   \n",
       "ANB             3000.0     3.479000    1.694260     1.0     2.00     4.0   \n",
       "Expected price  3000.0  3782.938333  567.189995  2504.0  3354.00  3771.0   \n",
       "\n",
       "                    75%     max  \n",
       "Id              2250.25  3000.0  \n",
       "Area(total)      343.00   360.0  \n",
       "Trooms             8.00     9.0  \n",
       "Nbedrooms          6.00     8.0  \n",
       "Nbwashrooms        6.00     8.0  \n",
       "Twashrooms         7.00    10.0  \n",
       "Roof(Area)        96.00   120.0  \n",
       "Lawn(Area)       109.00   120.0  \n",
       "Nfloors            5.00     7.0  \n",
       "API               85.00   100.0  \n",
       "ANB                5.00     6.0  \n",
       "Expected price  4208.00  5216.0  "
      ]
     },
     "execution_count": 7,
     "metadata": {},
     "output_type": "execute_result"
    }
   ],
   "source": [
    "df.describe().T"
   ]
  },
  {
   "cell_type": "markdown",
   "id": "4d44ee5c",
   "metadata": {},
   "source": [
    "# Null Value Treatmemnt"
   ]
  },
  {
   "cell_type": "code",
   "execution_count": 8,
   "id": "a3054fcf",
   "metadata": {},
   "outputs": [
    {
     "data": {
      "text/plain": [
       "Id                0\n",
       "Area(total)       0\n",
       "Trooms            0\n",
       "Nbedrooms         0\n",
       "Nbwashrooms       0\n",
       "Twashrooms        0\n",
       "roof              0\n",
       "Roof(Area)        0\n",
       "Lawn(Area)        0\n",
       "Nfloors           0\n",
       "API               0\n",
       "ANB               0\n",
       "Expected price    0\n",
       "Grade             0\n",
       "dtype: int64"
      ]
     },
     "execution_count": 8,
     "metadata": {},
     "output_type": "execute_result"
    }
   ],
   "source": [
    "df.isnull().sum()"
   ]
  },
  {
   "cell_type": "markdown",
   "id": "807326e7",
   "metadata": {},
   "source": [
    "Interpretation:- No Null values are present"
   ]
  },
  {
   "cell_type": "markdown",
   "id": "3abb58d5",
   "metadata": {},
   "source": [
    "# Visualisation"
   ]
  },
  {
   "attachments": {
    "image.png": {
     "image/png": "[encoded data removed]"
    }
   },
   "cell_type": "markdown",
   "id": "7e363f5e",
   "metadata": {},
   "source": [
    "![image.png](attachment:image.png)"
   ]
  },
  {
   "cell_type": "markdown",
   "id": "df9baf72",
   "metadata": {},
   "source": [
    "Buisiness Interpretation:- \n",
    "\n",
    "As A grade house has high in prices so the facilities such as attached bathroom, number of rooms, number of attached bathroom, roof area, numbers of floors and area are more. As the grades is decreasing the facilities are also decreasing, which in turns to the lower in house prices. \n",
    "\n",
    "But Most of the people would like to live in D grade houses because on an average it has 2 floors with 5 rooms including 3 bedrooms which are attached with washrooms"
   ]
  },
  {
   "cell_type": "markdown",
   "id": "623619d7",
   "metadata": {},
   "source": [
    "# Label Encoding"
   ]
  },
  {
   "cell_type": "code",
   "execution_count": 9,
   "id": "93a8ba58",
   "metadata": {},
   "outputs": [],
   "source": [
    "from sklearn.preprocessing import LabelEncoder\n",
    "le=LabelEncoder()\n",
    "\n",
    "obj=df.select_dtypes(include=\"object\")\n",
    "for i in obj:\n",
    "    df[i] = le.fit_transform(df[i])"
   ]
  },
  {
   "cell_type": "markdown",
   "id": "ec6150a4",
   "metadata": {},
   "source": [
    "Interpretation:- Converted categorical to numerical using sklearn Label encoder"
   ]
  },
  {
   "cell_type": "markdown",
   "id": "fbb30550",
   "metadata": {},
   "source": [
    "# Feature Selection"
   ]
  },
  {
   "cell_type": "code",
   "execution_count": 10,
   "id": "9a5978e1",
   "metadata": {},
   "outputs": [
    {
     "data": {
      "text/html": [
       "<div>\n",
       "<style scoped>\n",
       "    .dataframe tbody tr th:only-of-type {\n",
       "        vertical-align: middle;\n",
       "    }\n",
       "\n",
       "    .dataframe tbody tr th {\n",
       "        vertical-align: top;\n",
       "    }\n",
       "\n",
       "    .dataframe thead th {\n",
       "        text-align: right;\n",
       "    }\n",
       "</style>\n",
       "<table border=\"1\" class=\"dataframe\">\n",
       "  <thead>\n",
       "    <tr style=\"text-align: right;\">\n",
       "      <th></th>\n",
       "      <th>Id</th>\n",
       "      <th>Area(total)</th>\n",
       "      <th>Trooms</th>\n",
       "      <th>Nbedrooms</th>\n",
       "      <th>Nbwashrooms</th>\n",
       "      <th>Twashrooms</th>\n",
       "      <th>roof</th>\n",
       "      <th>Roof(Area)</th>\n",
       "      <th>Lawn(Area)</th>\n",
       "      <th>Nfloors</th>\n",
       "      <th>API</th>\n",
       "      <th>ANB</th>\n",
       "      <th>Expected price</th>\n",
       "      <th>Grade</th>\n",
       "    </tr>\n",
       "  </thead>\n",
       "  <tbody>\n",
       "    <tr>\n",
       "      <th>Id</th>\n",
       "      <td>1.000000</td>\n",
       "      <td>0.003186</td>\n",
       "      <td>0.003165</td>\n",
       "      <td>0.004814</td>\n",
       "      <td>0.003496</td>\n",
       "      <td>0.001092</td>\n",
       "      <td>0.011059</td>\n",
       "      <td>0.013046</td>\n",
       "      <td>0.006309</td>\n",
       "      <td>-0.010939</td>\n",
       "      <td>-0.003739</td>\n",
       "      <td>-0.013219</td>\n",
       "      <td>0.009216</td>\n",
       "      <td>-0.006074</td>\n",
       "    </tr>\n",
       "    <tr>\n",
       "      <th>Area(total)</th>\n",
       "      <td>0.003186</td>\n",
       "      <td>1.000000</td>\n",
       "      <td>0.019041</td>\n",
       "      <td>0.031328</td>\n",
       "      <td>0.031819</td>\n",
       "      <td>0.038509</td>\n",
       "      <td>0.014229</td>\n",
       "      <td>0.017029</td>\n",
       "      <td>-0.002118</td>\n",
       "      <td>0.016819</td>\n",
       "      <td>-0.000182</td>\n",
       "      <td>-0.010846</td>\n",
       "      <td>0.274507</td>\n",
       "      <td>-0.177332</td>\n",
       "    </tr>\n",
       "    <tr>\n",
       "      <th>Trooms</th>\n",
       "      <td>0.003165</td>\n",
       "      <td>0.019041</td>\n",
       "      <td>1.000000</td>\n",
       "      <td>0.865878</td>\n",
       "      <td>0.827072</td>\n",
       "      <td>0.794870</td>\n",
       "      <td>0.025142</td>\n",
       "      <td>0.026550</td>\n",
       "      <td>0.009557</td>\n",
       "      <td>0.862367</td>\n",
       "      <td>0.007502</td>\n",
       "      <td>0.007321</td>\n",
       "      <td>0.820170</td>\n",
       "      <td>-0.875145</td>\n",
       "    </tr>\n",
       "    <tr>\n",
       "      <th>Nbedrooms</th>\n",
       "      <td>0.004814</td>\n",
       "      <td>0.031328</td>\n",
       "      <td>0.865878</td>\n",
       "      <td>1.000000</td>\n",
       "      <td>0.956578</td>\n",
       "      <td>0.919158</td>\n",
       "      <td>0.023058</td>\n",
       "      <td>0.025073</td>\n",
       "      <td>0.000054</td>\n",
       "      <td>0.742132</td>\n",
       "      <td>0.002820</td>\n",
       "      <td>0.015403</td>\n",
       "      <td>0.715687</td>\n",
       "      <td>-0.865389</td>\n",
       "    </tr>\n",
       "    <tr>\n",
       "      <th>Nbwashrooms</th>\n",
       "      <td>0.003496</td>\n",
       "      <td>0.031819</td>\n",
       "      <td>0.827072</td>\n",
       "      <td>0.956578</td>\n",
       "      <td>1.000000</td>\n",
       "      <td>0.960007</td>\n",
       "      <td>0.028549</td>\n",
       "      <td>0.028832</td>\n",
       "      <td>0.006617</td>\n",
       "      <td>0.711936</td>\n",
       "      <td>0.011413</td>\n",
       "      <td>0.008475</td>\n",
       "      <td>0.683659</td>\n",
       "      <td>-0.847319</td>\n",
       "    </tr>\n",
       "    <tr>\n",
       "      <th>Twashrooms</th>\n",
       "      <td>0.001092</td>\n",
       "      <td>0.038509</td>\n",
       "      <td>0.794870</td>\n",
       "      <td>0.919158</td>\n",
       "      <td>0.960007</td>\n",
       "      <td>1.000000</td>\n",
       "      <td>0.028212</td>\n",
       "      <td>0.028763</td>\n",
       "      <td>0.008386</td>\n",
       "      <td>0.684966</td>\n",
       "      <td>0.012361</td>\n",
       "      <td>0.016492</td>\n",
       "      <td>0.654627</td>\n",
       "      <td>-0.819280</td>\n",
       "    </tr>\n",
       "    <tr>\n",
       "      <th>roof</th>\n",
       "      <td>0.011059</td>\n",
       "      <td>0.014229</td>\n",
       "      <td>0.025142</td>\n",
       "      <td>0.023058</td>\n",
       "      <td>0.028549</td>\n",
       "      <td>0.028212</td>\n",
       "      <td>1.000000</td>\n",
       "      <td>0.976561</td>\n",
       "      <td>-0.004640</td>\n",
       "      <td>0.014985</td>\n",
       "      <td>-0.007983</td>\n",
       "      <td>-0.020511</td>\n",
       "      <td>0.007880</td>\n",
       "      <td>-0.166635</td>\n",
       "    </tr>\n",
       "    <tr>\n",
       "      <th>Roof(Area)</th>\n",
       "      <td>0.013046</td>\n",
       "      <td>0.017029</td>\n",
       "      <td>0.026550</td>\n",
       "      <td>0.025073</td>\n",
       "      <td>0.028832</td>\n",
       "      <td>0.028763</td>\n",
       "      <td>0.976561</td>\n",
       "      <td>1.000000</td>\n",
       "      <td>-0.006831</td>\n",
       "      <td>0.013840</td>\n",
       "      <td>-0.006331</td>\n",
       "      <td>-0.015529</td>\n",
       "      <td>0.009346</td>\n",
       "      <td>-0.170259</td>\n",
       "    </tr>\n",
       "    <tr>\n",
       "      <th>Lawn(Area)</th>\n",
       "      <td>0.006309</td>\n",
       "      <td>-0.002118</td>\n",
       "      <td>0.009557</td>\n",
       "      <td>0.000054</td>\n",
       "      <td>0.006617</td>\n",
       "      <td>0.008386</td>\n",
       "      <td>-0.004640</td>\n",
       "      <td>-0.006831</td>\n",
       "      <td>1.000000</td>\n",
       "      <td>0.013771</td>\n",
       "      <td>0.011477</td>\n",
       "      <td>0.025751</td>\n",
       "      <td>0.011561</td>\n",
       "      <td>-0.051200</td>\n",
       "    </tr>\n",
       "    <tr>\n",
       "      <th>Nfloors</th>\n",
       "      <td>-0.010939</td>\n",
       "      <td>0.016819</td>\n",
       "      <td>0.862367</td>\n",
       "      <td>0.742132</td>\n",
       "      <td>0.711936</td>\n",
       "      <td>0.684966</td>\n",
       "      <td>0.014985</td>\n",
       "      <td>0.013840</td>\n",
       "      <td>0.013771</td>\n",
       "      <td>1.000000</td>\n",
       "      <td>-0.002255</td>\n",
       "      <td>0.020614</td>\n",
       "      <td>0.714598</td>\n",
       "      <td>-0.787623</td>\n",
       "    </tr>\n",
       "    <tr>\n",
       "      <th>API</th>\n",
       "      <td>-0.003739</td>\n",
       "      <td>-0.000182</td>\n",
       "      <td>0.007502</td>\n",
       "      <td>0.002820</td>\n",
       "      <td>0.011413</td>\n",
       "      <td>0.012361</td>\n",
       "      <td>-0.007983</td>\n",
       "      <td>-0.006331</td>\n",
       "      <td>0.011477</td>\n",
       "      <td>-0.002255</td>\n",
       "      <td>1.000000</td>\n",
       "      <td>-0.025694</td>\n",
       "      <td>0.016575</td>\n",
       "      <td>-0.099000</td>\n",
       "    </tr>\n",
       "    <tr>\n",
       "      <th>ANB</th>\n",
       "      <td>-0.013219</td>\n",
       "      <td>-0.010846</td>\n",
       "      <td>0.007321</td>\n",
       "      <td>0.015403</td>\n",
       "      <td>0.008475</td>\n",
       "      <td>0.016492</td>\n",
       "      <td>-0.020511</td>\n",
       "      <td>-0.015529</td>\n",
       "      <td>0.025751</td>\n",
       "      <td>0.020614</td>\n",
       "      <td>-0.025694</td>\n",
       "      <td>1.000000</td>\n",
       "      <td>0.015583</td>\n",
       "      <td>-0.024025</td>\n",
       "    </tr>\n",
       "    <tr>\n",
       "      <th>Expected price</th>\n",
       "      <td>0.009216</td>\n",
       "      <td>0.274507</td>\n",
       "      <td>0.820170</td>\n",
       "      <td>0.715687</td>\n",
       "      <td>0.683659</td>\n",
       "      <td>0.654627</td>\n",
       "      <td>0.007880</td>\n",
       "      <td>0.009346</td>\n",
       "      <td>0.011561</td>\n",
       "      <td>0.714598</td>\n",
       "      <td>0.016575</td>\n",
       "      <td>0.015583</td>\n",
       "      <td>1.000000</td>\n",
       "      <td>-0.760820</td>\n",
       "    </tr>\n",
       "    <tr>\n",
       "      <th>Grade</th>\n",
       "      <td>-0.006074</td>\n",
       "      <td>-0.177332</td>\n",
       "      <td>-0.875145</td>\n",
       "      <td>-0.865389</td>\n",
       "      <td>-0.847319</td>\n",
       "      <td>-0.819280</td>\n",
       "      <td>-0.166635</td>\n",
       "      <td>-0.170259</td>\n",
       "      <td>-0.051200</td>\n",
       "      <td>-0.787623</td>\n",
       "      <td>-0.099000</td>\n",
       "      <td>-0.024025</td>\n",
       "      <td>-0.760820</td>\n",
       "      <td>1.000000</td>\n",
       "    </tr>\n",
       "  </tbody>\n",
       "</table>\n",
       "</div>"
      ],
      "text/plain": [
       "                      Id  Area(total)    Trooms  Nbedrooms  Nbwashrooms  \\\n",
       "Id              1.000000     0.003186  0.003165   0.004814     0.003496   \n",
       "Area(total)     0.003186     1.000000  0.019041   0.031328     0.031819   \n",
       "Trooms          0.003165     0.019041  1.000000   0.865878     0.827072   \n",
       "Nbedrooms       0.004814     0.031328  0.865878   1.000000     0.956578   \n",
       "Nbwashrooms     0.003496     0.031819  0.827072   0.956578     1.000000   \n",
       "Twashrooms      0.001092     0.038509  0.794870   0.919158     0.960007   \n",
       "roof            0.011059     0.014229  0.025142   0.023058     0.028549   \n",
       "Roof(Area)      0.013046     0.017029  0.026550   0.025073     0.028832   \n",
       "Lawn(Area)      0.006309    -0.002118  0.009557   0.000054     0.006617   \n",
       "Nfloors        -0.010939     0.016819  0.862367   0.742132     0.711936   \n",
       "API            -0.003739    -0.000182  0.007502   0.002820     0.011413   \n",
       "ANB            -0.013219    -0.010846  0.007321   0.015403     0.008475   \n",
       "Expected price  0.009216     0.274507  0.820170   0.715687     0.683659   \n",
       "Grade          -0.006074    -0.177332 -0.875145  -0.865389    -0.847319   \n",
       "\n",
       "                Twashrooms      roof  Roof(Area)  Lawn(Area)   Nfloors  \\\n",
       "Id                0.001092  0.011059    0.013046    0.006309 -0.010939   \n",
       "Area(total)       0.038509  0.014229    0.017029   -0.002118  0.016819   \n",
       "Trooms            0.794870  0.025142    0.026550    0.009557  0.862367   \n",
       "Nbedrooms         0.919158  0.023058    0.025073    0.000054  0.742132   \n",
       "Nbwashrooms       0.960007  0.028549    0.028832    0.006617  0.711936   \n",
       "Twashrooms        1.000000  0.028212    0.028763    0.008386  0.684966   \n",
       "roof              0.028212  1.000000    0.976561   -0.004640  0.014985   \n",
       "Roof(Area)        0.028763  0.976561    1.000000   -0.006831  0.013840   \n",
       "Lawn(Area)        0.008386 -0.004640   -0.006831    1.000000  0.013771   \n",
       "Nfloors           0.684966  0.014985    0.013840    0.013771  1.000000   \n",
       "API               0.012361 -0.007983   -0.006331    0.011477 -0.002255   \n",
       "ANB               0.016492 -0.020511   -0.015529    0.025751  0.020614   \n",
       "Expected price    0.654627  0.007880    0.009346    0.011561  0.714598   \n",
       "Grade            -0.819280 -0.166635   -0.170259   -0.051200 -0.787623   \n",
       "\n",
       "                     API       ANB  Expected price     Grade  \n",
       "Id             -0.003739 -0.013219        0.009216 -0.006074  \n",
       "Area(total)    -0.000182 -0.010846        0.274507 -0.177332  \n",
       "Trooms          0.007502  0.007321        0.820170 -0.875145  \n",
       "Nbedrooms       0.002820  0.015403        0.715687 -0.865389  \n",
       "Nbwashrooms     0.011413  0.008475        0.683659 -0.847319  \n",
       "Twashrooms      0.012361  0.016492        0.654627 -0.819280  \n",
       "roof           -0.007983 -0.020511        0.007880 -0.166635  \n",
       "Roof(Area)     -0.006331 -0.015529        0.009346 -0.170259  \n",
       "Lawn(Area)      0.011477  0.025751        0.011561 -0.051200  \n",
       "Nfloors        -0.002255  0.020614        0.714598 -0.787623  \n",
       "API             1.000000 -0.025694        0.016575 -0.099000  \n",
       "ANB            -0.025694  1.000000        0.015583 -0.024025  \n",
       "Expected price  0.016575  0.015583        1.000000 -0.760820  \n",
       "Grade          -0.099000 -0.024025       -0.760820  1.000000  "
      ]
     },
     "execution_count": 10,
     "metadata": {},
     "output_type": "execute_result"
    }
   ],
   "source": [
    "column_correlation = df.corr()\n",
    "column_correlation"
   ]
  },
  {
   "cell_type": "code",
   "execution_count": 11,
   "id": "6ee2f44a",
   "metadata": {},
   "outputs": [
    {
     "data": {
      "image/png": "[encoded data removed]",
      "text/plain": [
       "<Figure size 640x480 with 2 Axes>"
      ]
     },
     "metadata": {},
     "output_type": "display_data"
    }
   ],
   "source": [
    "import seaborn as sns\n",
    "import matplotlib.pyplot as plt\n",
    "sns.heatmap(column_correlation);\n",
    "plt.show()"
   ]
  },
  {
   "cell_type": "markdown",
   "id": "c9ea7f9d",
   "metadata": {},
   "source": [
    "# Spliting The Data"
   ]
  },
  {
   "cell_type": "code",
   "execution_count": 12,
   "id": "2df1dbc0",
   "metadata": {},
   "outputs": [],
   "source": [
    "#X=df[[\"Trooms\",\"Nbedrooms\",\"Nbwashrooms\",\"Twashrooms\",\"Nfloors\",\"Expected price\"]]\n",
    "#y=df[[\"Grade\"]]"
   ]
  },
  {
   "cell_type": "code",
   "execution_count": 13,
   "id": "a52c314c",
   "metadata": {},
   "outputs": [],
   "source": [
    "X=df.iloc[:,:-1]\n",
    "y=df.iloc[:,-1]"
   ]
  },
  {
   "cell_type": "code",
   "execution_count": 14,
   "id": "410ef171",
   "metadata": {},
   "outputs": [
    {
     "data": {
      "text/plain": [
       "((2100, 13), (900, 13))"
      ]
     },
     "execution_count": 14,
     "metadata": {},
     "output_type": "execute_result"
    }
   ],
   "source": [
    "from sklearn.model_selection import train_test_split\n",
    "X_train, X_test, y_train, y_test = train_test_split(X, y, train_size=0.7, random_state=5)\n",
    "X_train.shape, X_test.shape"
   ]
  },
  {
   "cell_type": "markdown",
   "id": "3a8092ba",
   "metadata": {},
   "source": [
    "Interpretation:- Splited the data with 70% as train and 30% as test size"
   ]
  },
  {
   "cell_type": "markdown",
   "id": "4de1e941",
   "metadata": {},
   "source": [
    "# Scaling the data"
   ]
  },
  {
   "cell_type": "code",
   "execution_count": 15,
   "id": "5ccf7861",
   "metadata": {},
   "outputs": [],
   "source": [
    "from sklearn.preprocessing import MinMaxScaler\n",
    "scaler = MinMaxScaler() \n",
    "X_train = scaler.fit_transform(X_train)\n",
    "X_test = scaler.fit_transform(X_test)"
   ]
  },
  {
   "cell_type": "markdown",
   "id": "01867a7c",
   "metadata": {},
   "source": [
    "Interpretation:- standardize the independent features in a fixed range using minmax scaler"
   ]
  },
  {
   "cell_type": "markdown",
   "id": "6fd3117e",
   "metadata": {},
   "source": [
    "# Feature Extraction"
   ]
  },
  {
   "cell_type": "code",
   "execution_count": 16,
   "id": "6dc13163",
   "metadata": {},
   "outputs": [],
   "source": [
    "from sklearn.discriminant_analysis import LinearDiscriminantAnalysis\n",
    "lda = LinearDiscriminantAnalysis(n_components=2)\n",
    "X_train = lda.fit_transform(X_train, y_train)\n",
    "X_test = lda.transform(X_test)"
   ]
  },
  {
   "cell_type": "markdown",
   "id": "5d30f0e9",
   "metadata": {},
   "source": [
    "Interpretation:- Reduced the dimension using Linear Discriminant Analysis into 2 components for getting better machine prediction"
   ]
  },
  {
   "cell_type": "markdown",
   "id": "065b1ce1",
   "metadata": {},
   "source": [
    "# Modelling - Logistic Regression"
   ]
  },
  {
   "cell_type": "code",
   "execution_count": 17,
   "id": "210c2acd",
   "metadata": {},
   "outputs": [],
   "source": [
    "results, names = list(), list()"
   ]
  },
  {
   "cell_type": "code",
   "execution_count": 18,
   "id": "1674ddf3",
   "metadata": {},
   "outputs": [],
   "source": [
    "from sklearn.linear_model import LogisticRegression\n",
    "from sklearn.model_selection import RepeatedStratifiedKFold, cross_val_score\n",
    "\n",
    "logreg = LogisticRegression()\n",
    "logreg.fit(X_train, y_train)\n",
    "y_pred = logreg.predict(X_test)\n",
    "\n",
    "cv = RepeatedStratifiedKFold(n_splits=10, n_repeats=3, random_state=1)\n",
    "n_score = cross_val_score(logreg, X,y, scoring='f1_weighted', cv=cv, n_jobs=-1)\n",
    "results.append(n_score)\n",
    "names.append('LR')"
   ]
  },
  {
   "cell_type": "code",
   "execution_count": 19,
   "id": "fa6c74b8",
   "metadata": {},
   "outputs": [
    {
     "name": "stdout",
     "output_type": "stream",
     "text": [
      "Training score 0.9414285714285714\n",
      "Testing score 0.9211111111111111\n"
     ]
    }
   ],
   "source": [
    "print(\"Training score\",logreg.score(X_train,y_train))\n",
    "print(\"Testing score\",logreg.score(X_test,y_test))"
   ]
  },
  {
   "cell_type": "code",
   "execution_count": 20,
   "id": "5906f52b",
   "metadata": {},
   "outputs": [
    {
     "name": "stdout",
     "output_type": "stream",
     "text": [
      "accuracy         : 0.9211111111111111\n",
      "recall           : 0.9211111111111111\n",
      "f1-score         : 0.9172331492255624\n",
      "precision        : 0.9197770528322642\n",
      "Confusion Matrix :\n",
      " [[ 91   9   0   0   0]\n",
      " [ 16 148   5   0   0]\n",
      " [  0   3 195  11   0]\n",
      " [  0   0   8 386   2]\n",
      " [  0   0   0  17   9]]\n"
     ]
    }
   ],
   "source": [
    "from sklearn.metrics import recall_score\n",
    "from sklearn.metrics import f1_score\n",
    "from sklearn.metrics import accuracy_score\n",
    "from sklearn.metrics import precision_score\n",
    "from sklearn.metrics import confusion_matrix\n",
    "\n",
    "print('accuracy         :', accuracy_score(y_test, y_pred))\n",
    "print('recall           :', recall_score(y_test, y_pred,average='weighted'))\n",
    "print('f1-score         :', f1_score(y_test, y_pred,average='weighted'))\n",
    "print('precision        :', precision_score(y_test, y_pred,average='weighted'))\n",
    "print('Confusion Matrix :\\n', confusion_matrix(y_test, y_pred))"
   ]
  },
  {
   "cell_type": "markdown",
   "id": "df3f55e5",
   "metadata": {},
   "source": [
    "Interpretation :- Model is performing good with 92% accuracy "
   ]
  },
  {
   "cell_type": "markdown",
   "id": "9bd7acd4",
   "metadata": {},
   "source": [
    "# Modelling -  Naive Bayes"
   ]
  },
  {
   "cell_type": "code",
   "execution_count": 21,
   "id": "9c4922ba",
   "metadata": {},
   "outputs": [],
   "source": [
    "from sklearn.naive_bayes import GaussianNB\n",
    "classifier = GaussianNB()\n",
    "model_NB=classifier.fit(X_train, y_train) "
   ]
  },
  {
   "cell_type": "code",
   "execution_count": 22,
   "id": "002a55b0",
   "metadata": {},
   "outputs": [],
   "source": [
    "y_pred = classifier.predict(X_test) \n",
    "cv = RepeatedStratifiedKFold(n_splits=10, n_repeats=3, random_state=1)\n",
    "n_score = cross_val_score(model_NB, X,y, scoring='f1_weighted', cv=cv, n_jobs=-1)\n",
    "results.append(n_score)\n",
    "names.append('NB')"
   ]
  },
  {
   "cell_type": "code",
   "execution_count": 23,
   "id": "23c4ff86",
   "metadata": {},
   "outputs": [
    {
     "name": "stdout",
     "output_type": "stream",
     "text": [
      "Training score 0.9304761904761905\n",
      "Testing score 0.9211111111111111\n"
     ]
    }
   ],
   "source": [
    "print(\"Training score\",model_NB.score(X_train,y_train))\n",
    "print(\"Testing score\",model_NB.score(X_test,y_test))"
   ]
  },
  {
   "cell_type": "code",
   "execution_count": 24,
   "id": "81e823ce",
   "metadata": {},
   "outputs": [
    {
     "name": "stdout",
     "output_type": "stream",
     "text": [
      "accuracy         : 0.9211111111111111\n",
      "recall           : 0.9211111111111111\n",
      "f1-score         : 0.9180545548565553\n",
      "precision        : 0.918944051698484\n",
      "Confusion Matrix :\n",
      " [[ 93   7   0   0   0]\n",
      " [ 16 147   6   0   0]\n",
      " [  0   4 194  11   0]\n",
      " [  0   0   7 385   4]\n",
      " [  0   0   0  16  10]]\n"
     ]
    }
   ],
   "source": [
    "from sklearn.metrics import recall_score\n",
    "from sklearn.metrics import f1_score\n",
    "from sklearn.metrics import accuracy_score\n",
    "from sklearn.metrics import precision_score\n",
    "from sklearn.metrics import confusion_matrix\n",
    "\n",
    "print('accuracy         :', accuracy_score(y_test, y_pred))\n",
    "print('recall           :', recall_score(y_test, y_pred,average='weighted'))\n",
    "print('f1-score         :', f1_score(y_test, y_pred,average='weighted'))\n",
    "print('precision        :', precision_score(y_test, y_pred,average='weighted'))\n",
    "print('Confusion Matrix :\\n', confusion_matrix(y_test, y_pred))"
   ]
  },
  {
   "cell_type": "markdown",
   "id": "6bcb5837",
   "metadata": {},
   "source": [
    "Interpretation :- Model is performing good with 92% accuracy "
   ]
  },
  {
   "cell_type": "markdown",
   "id": "b7e15e65",
   "metadata": {},
   "source": [
    "# Modelling - Decision Tree"
   ]
  },
  {
   "cell_type": "code",
   "execution_count": 25,
   "id": "e6762627",
   "metadata": {},
   "outputs": [],
   "source": [
    "from sklearn.tree import DecisionTreeClassifier"
   ]
  },
  {
   "cell_type": "code",
   "execution_count": 26,
   "id": "0eb49dde",
   "metadata": {},
   "outputs": [],
   "source": [
    "clf = DecisionTreeClassifier(max_depth=3)\n",
    "# Train Decision Tree Classifer\n",
    "clf = clf.fit(X_train,y_train)\n",
    "\n",
    "cv = RepeatedStratifiedKFold(n_splits=10, n_repeats=3, random_state=1)\n",
    "n_score = cross_val_score(clf, X,y, scoring='f1_weighted', cv=cv, n_jobs=-1)\n",
    "results.append(n_score)\n",
    "names.append('DT')"
   ]
  },
  {
   "cell_type": "code",
   "execution_count": 27,
   "id": "a5010be6",
   "metadata": {},
   "outputs": [],
   "source": [
    "y_pred = clf.predict(X_test)"
   ]
  },
  {
   "cell_type": "code",
   "execution_count": 28,
   "id": "9f81042f",
   "metadata": {},
   "outputs": [
    {
     "data": {
      "text/plain": [
       "array([[-4.66330669,  1.09913971],\n",
       "       [ 3.81315977,  0.35581855],\n",
       "       [-6.07325553, -1.4008877 ],\n",
       "       ...,\n",
       "       [ 2.45135216,  0.35405677],\n",
       "       [ 3.46677443, -1.07702405],\n",
       "       [-0.1158243 ,  1.14672756]])"
      ]
     },
     "execution_count": 28,
     "metadata": {},
     "output_type": "execute_result"
    }
   ],
   "source": [
    "X_test"
   ]
  },
  {
   "cell_type": "code",
   "execution_count": 29,
   "id": "dc33acae",
   "metadata": {},
   "outputs": [
    {
     "name": "stdout",
     "output_type": "stream",
     "text": [
      "Training score 0.9395238095238095\n",
      "Testing score 0.9133333333333333\n"
     ]
    }
   ],
   "source": [
    "print(\"Training score\",clf.score(X_train,y_train))\n",
    "print(\"Testing score\",clf.score(X_test,y_test))"
   ]
  },
  {
   "cell_type": "code",
   "execution_count": 30,
   "id": "8efb61df",
   "metadata": {},
   "outputs": [
    {
     "name": "stdout",
     "output_type": "stream",
     "text": [
      "accuracy         : 0.9133333333333333\n",
      "recall           : 0.9133333333333333\n",
      "f1-score         : 0.9086451773312144\n",
      "precision        : 0.9131057935027604\n",
      "Confusion Matrix :\n",
      " [[ 95   5   0   0   0]\n",
      " [ 23 136  10   0   0]\n",
      " [  0   2 195  12   0]\n",
      " [  0   0   5 388   3]\n",
      " [  0   0   0  18   8]]\n"
     ]
    }
   ],
   "source": [
    "from sklearn.metrics import recall_score\n",
    "from sklearn.metrics import f1_score\n",
    "from sklearn.metrics import accuracy_score\n",
    "from sklearn.metrics import precision_score\n",
    "from sklearn.metrics import confusion_matrix\n",
    "\n",
    "print('accuracy         :', accuracy_score(y_test, y_pred))\n",
    "print('recall           :', recall_score(y_test, y_pred,average='weighted'))\n",
    "print('f1-score         :', f1_score(y_test, y_pred,average='weighted'))\n",
    "print('precision        :', precision_score(y_test, y_pred,average='weighted'))\n",
    "print('Confusion Matrix :\\n', confusion_matrix(y_test, y_pred))"
   ]
  },
  {
   "cell_type": "markdown",
   "id": "1b5ddff4",
   "metadata": {},
   "source": [
    "Interpretation :- Model is performing good with 91% accuracy and 90% F1-score"
   ]
  },
  {
   "cell_type": "markdown",
   "id": "42879c71",
   "metadata": {},
   "source": [
    "# Bagging with Random Forest"
   ]
  },
  {
   "cell_type": "code",
   "execution_count": 31,
   "id": "428c7477",
   "metadata": {},
   "outputs": [],
   "source": [
    " from sklearn.ensemble import RandomForestClassifier\n"
   ]
  },
  {
   "cell_type": "code",
   "execution_count": 32,
   "id": "d4540e19",
   "metadata": {},
   "outputs": [],
   "source": [
    "# define the model\n",
    "model_RF = RandomForestClassifier()\n",
    "# evaluate the model\n",
    "cv = RepeatedStratifiedKFold(n_splits=10, n_repeats=3, random_state=1)\n",
    "n_score = cross_val_score(model_RF, X,y, scoring='f1_weighted', cv=cv, n_jobs=-1)\n",
    "results.append(n_score)\n",
    "names.append('RF')"
   ]
  },
  {
   "cell_type": "code",
   "execution_count": 33,
   "id": "a69090b4",
   "metadata": {},
   "outputs": [
    {
     "name": "stdout",
     "output_type": "stream",
     "text": [
      "Training score 1.0\n",
      "Testing score 0.93\n"
     ]
    }
   ],
   "source": [
    "model_rf=model_RF.fit(X_train,y_train)\n",
    "print(\"Training score\",model_rf.score(X_train,y_train))\n",
    "print(\"Testing score\",model_rf.score(X_test,y_test))"
   ]
  },
  {
   "cell_type": "code",
   "execution_count": 34,
   "id": "c2baa4d5",
   "metadata": {},
   "outputs": [],
   "source": [
    "y_pred = model_RF.predict(X_test)"
   ]
  },
  {
   "cell_type": "code",
   "execution_count": 35,
   "id": "44d4c239",
   "metadata": {},
   "outputs": [
    {
     "name": "stdout",
     "output_type": "stream",
     "text": [
      "accuracy         : 0.93\n",
      "recall           : 0.93\n",
      "f1-score         : 0.9277950041129802\n",
      "precision        : 0.9282899178654253\n",
      "Confusion Matrix :\n",
      " [[ 92   8   0   0   0]\n",
      " [ 12 150   7   0   0]\n",
      " [  0   0 199  10   0]\n",
      " [  0   0   8 384   4]\n",
      " [  0   0   0  14  12]]\n"
     ]
    }
   ],
   "source": [
    "from sklearn.metrics import recall_score\n",
    "from sklearn.metrics import f1_score\n",
    "from sklearn.metrics import accuracy_score\n",
    "from sklearn.metrics import precision_score\n",
    "from sklearn.metrics import confusion_matrix\n",
    "\n",
    "print('accuracy         :', accuracy_score(y_test, y_pred))\n",
    "print('recall           :', recall_score(y_test, y_pred,average='weighted'))\n",
    "print('f1-score         :', f1_score(y_test, y_pred,average='weighted'))\n",
    "print('precision        :', precision_score(y_test, y_pred,average='weighted'))\n",
    "print('Confusion Matrix :\\n', confusion_matrix(y_test, y_pred))"
   ]
  },
  {
   "cell_type": "markdown",
   "id": "9bc9f148",
   "metadata": {},
   "source": [
    "Interpretation :- Bagging is performing better with 92% accuracy in testing and 100% in training"
   ]
  },
  {
   "cell_type": "markdown",
   "id": "45ada842",
   "metadata": {},
   "source": [
    "# Boosting with Adaboost"
   ]
  },
  {
   "cell_type": "code",
   "execution_count": 36,
   "id": "c9f95710",
   "metadata": {},
   "outputs": [],
   "source": [
    "from sklearn.ensemble import AdaBoostClassifier"
   ]
  },
  {
   "cell_type": "code",
   "execution_count": 37,
   "id": "4bafe854",
   "metadata": {},
   "outputs": [],
   "source": [
    "# define the model\n",
    "model_ADA = AdaBoostClassifier()\n",
    "# evaluate the model\n",
    "\n",
    "cv = RepeatedStratifiedKFold(n_splits=10, n_repeats=3, random_state=1)\n",
    "n_score = cross_val_score(model_ADA, X,y, scoring='f1_weighted', cv=cv, n_jobs=-1)\n",
    "results.append(n_score)\n",
    "names.append('Adaboost')"
   ]
  },
  {
   "cell_type": "code",
   "execution_count": 38,
   "id": "b0214fca",
   "metadata": {},
   "outputs": [
    {
     "name": "stdout",
     "output_type": "stream",
     "text": [
      "Training Score 0.8842857142857142\n",
      "Testing Score 0.8766666666666667\n"
     ]
    }
   ],
   "source": [
    "model_ada = model_ADA.fit(X_train,y_train)\n",
    "print(\"Training Score\",model_ada.score(X_train,y_train))\n",
    "print(\"Testing Score\",model_ada.score(X_test,y_test))"
   ]
  },
  {
   "cell_type": "code",
   "execution_count": 39,
   "id": "af753c15",
   "metadata": {},
   "outputs": [],
   "source": [
    "y_pred = model_ada.predict(X_test)"
   ]
  },
  {
   "cell_type": "code",
   "execution_count": 40,
   "id": "b174c1f0",
   "metadata": {},
   "outputs": [
    {
     "name": "stdout",
     "output_type": "stream",
     "text": [
      "accuracy         : 0.8766666666666667\n",
      "recall           : 0.8766666666666667\n",
      "f1-score         : 0.8613440899459357\n",
      "precision        : 0.8706021133591227\n",
      "Confusion Matrix :\n",
      " [[ 99   1   0   0   0]\n",
      " [ 55 104  10   0   0]\n",
      " [  0   2 195  12   0]\n",
      " [  0   0   5 391   0]\n",
      " [  0   0   0  26   0]]\n"
     ]
    }
   ],
   "source": [
    "from sklearn.metrics import recall_score\n",
    "from sklearn.metrics import f1_score\n",
    "from sklearn.metrics import accuracy_score\n",
    "from sklearn.metrics import precision_score\n",
    "from sklearn.metrics import confusion_matrix\n",
    "\n",
    "print('accuracy         :', accuracy_score(y_test, y_pred))\n",
    "print('recall           :', recall_score(y_test, y_pred,average='weighted'))\n",
    "print('f1-score         :', f1_score(y_test, y_pred,average='weighted'))\n",
    "print('precision        :', precision_score(y_test, y_pred,average='weighted'))\n",
    "print('Confusion Matrix :\\n', confusion_matrix(y_test, y_pred))"
   ]
  },
  {
   "cell_type": "markdown",
   "id": "42447daf",
   "metadata": {},
   "source": [
    "Interpretation :- Boosting with Adaboost is performing good with 87% accuracy in Testing and 88% in training"
   ]
  },
  {
   "cell_type": "markdown",
   "id": "de8a97cf",
   "metadata": {},
   "source": [
    "# Stacking"
   ]
  },
  {
   "cell_type": "code",
   "execution_count": 41,
   "id": "493cdcb8",
   "metadata": {},
   "outputs": [],
   "source": [
    "# required Python libraries\n",
    "from sklearn.linear_model import LogisticRegression\n",
    "from sklearn.tree import DecisionTreeClassifier\n",
    "from sklearn.naive_bayes import GaussianNB\n",
    "from sklearn.neighbors import KNeighborsClassifier\n",
    "from sklearn.svm import SVC\n",
    "from sklearn.ensemble import StackingClassifier"
   ]
  },
  {
   "cell_type": "code",
   "execution_count": 42,
   "id": "0a887b49",
   "metadata": {},
   "outputs": [],
   "source": [
    " # get a stacking ensemble of models\n",
    "def get_stacking():\n",
    "# define the base models\n",
    "    level0 = list()\n",
    "    level0.append(('lr', LogisticRegression()))\n",
    "    level0.append(('knn', KNeighborsClassifier()))\n",
    "    level0.append(('cart', DecisionTreeClassifier()))\n",
    "    level0.append(('svm', SVC()))\n",
    "    level0.append(('bayes', GaussianNB()))\n",
    "    # define meta learner model\n",
    "    level1 = LogisticRegression()\n",
    "    # define the stacking ensemble\n",
    "    model = StackingClassifier(estimators=level0, final_estimator=level1, cv=5)\n",
    "    return model"
   ]
  },
  {
   "cell_type": "code",
   "execution_count": 43,
   "id": "a7be24ca",
   "metadata": {},
   "outputs": [],
   "source": [
    "# define the model\n",
    "model_S = get_stacking()\n",
    "# evaluate the model\n",
    "cv = RepeatedStratifiedKFold(n_splits=10, n_repeats=3, random_state=1)\n",
    "n_score = cross_val_score(model_S, X,y, scoring='f1_weighted', cv=cv, n_jobs=-1)\n",
    "results.append(n_score)\n",
    "names.append('stacking')\n"
   ]
  },
  {
   "cell_type": "code",
   "execution_count": 44,
   "id": "06780603",
   "metadata": {},
   "outputs": [
    {
     "name": "stdout",
     "output_type": "stream",
     "text": [
      "Training Score 0.949047619047619\n",
      "Testing Score 0.9188888888888889\n"
     ]
    }
   ],
   "source": [
    "model_stack=model_S.fit(X_train,y_train)\n",
    "print(\"Training Score\", model_stack.score(X_train,y_train))\n",
    "print(\"Testing Score\",model_stack.score(X_test,y_test))"
   ]
  },
  {
   "cell_type": "code",
   "execution_count": 45,
   "id": "b5119944",
   "metadata": {},
   "outputs": [],
   "source": [
    "y_pred = model_stack.predict(X_test)"
   ]
  },
  {
   "cell_type": "code",
   "execution_count": 46,
   "id": "386a673a",
   "metadata": {},
   "outputs": [
    {
     "name": "stdout",
     "output_type": "stream",
     "text": [
      "accuracy         : 0.9188888888888889\n",
      "recall           : 0.9188888888888889\n",
      "f1-score         : 0.9153485156357439\n",
      "precision        : 0.9167346730162265\n",
      "Confusion Matrix :\n",
      " [[ 93   7   0   0   0]\n",
      " [ 18 145   6   0   0]\n",
      " [  0   2 196  11   0]\n",
      " [  0   0   8 384   4]\n",
      " [  0   0   0  17   9]]\n"
     ]
    }
   ],
   "source": [
    "from sklearn.metrics import recall_score\n",
    "from sklearn.metrics import f1_score\n",
    "from sklearn.metrics import accuracy_score\n",
    "from sklearn.metrics import precision_score\n",
    "from sklearn.metrics import confusion_matrix\n",
    "\n",
    "print('accuracy         :', accuracy_score(y_test, y_pred))\n",
    "print('recall           :', recall_score(y_test, y_pred,average='weighted'))\n",
    "print('f1-score         :', f1_score(y_test, y_pred,average='weighted'))\n",
    "print('precision        :', precision_score(y_test, y_pred,average='weighted'))\n",
    "print('Confusion Matrix :\\n', confusion_matrix(y_test, y_pred))"
   ]
  },
  {
   "cell_type": "markdown",
   "id": "7cf42334",
   "metadata": {},
   "source": [
    "Interpretation :- Stacking is performing better on comparition to all models with 92% accuracy in testing and 95% in training"
   ]
  },
  {
   "cell_type": "code",
   "execution_count": 47,
   "id": "cd5b3393",
   "metadata": {},
   "outputs": [],
   "source": [
    "import matplotlib.pyplot as pyplot"
   ]
  },
  {
   "cell_type": "code",
   "execution_count": 48,
   "id": "731c4e4e",
   "metadata": {},
   "outputs": [
    {
     "data": {
      "image/png": "[encoded data removed]",
      "text/plain": [
       "<Figure size 640x480 with 1 Axes>"
      ]
     },
     "metadata": {},
     "output_type": "display_data"
    }
   ],
   "source": [
    "pyplot.boxplot(results, labels=names, showmeans=True)\n",
    "pyplot.show()"
   ]
  },
  {
   "cell_type": "markdown",
   "id": "0257cdaf",
   "metadata": {},
   "source": [
    "# Interpretation:- Overall, Stacking is performing better with comparision to all the models and can predict best output"
   ]
  },
  {
   "cell_type": "code",
   "execution_count": null,
   "id": "ab141631",
   "metadata": {},
   "outputs": [],
   "source": []
  }
 ],
 "metadata": {
  "kernelspec": {
   "display_name": "Python 3 (ipykernel)",
   "language": "python",
   "name": "python3"
  },
  "language_info": {
   "codemirror_mode": {
    "name": "ipython",
    "version": 3
   },
   "file_extension": ".py",
   "mimetype": "text/x-python",
   "name": "python",
   "nbconvert_exporter": "python",
   "pygments_lexer": "ipython3",
   "version": "3.9.13"
  }
 },
 "nbformat": 4,
 "nbformat_minor": 5
}
